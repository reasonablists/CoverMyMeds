{
 "cells": [
  {
   "cell_type": "code",
   "execution_count": null,
   "metadata": {},
   "outputs": [],
   "source": [
    "import pandas as pd\n",
    "import matplotlib.pyplot as plt\n",
    "import numpy as np"
   ]
  },
  {
   "cell_type": "code",
   "execution_count": null,
   "metadata": {},
   "outputs": [],
   "source": [
    "df = pd.read_parquet(\"cmm_erdos_bootcamp_2020_timeseries.pq\")"
   ]
  },
  {
   "cell_type": "code",
   "execution_count": null,
   "metadata": {},
   "outputs": [],
   "source": [
    "df.head()"
   ]
  },
  {
   "cell_type": "code",
   "execution_count": null,
   "metadata": {},
   "outputs": [],
   "source": [
    "normalized_df = df.copy()"
   ]
  },
  {
   "cell_type": "code",
   "execution_count": null,
   "metadata": {},
   "outputs": [],
   "source": [
    "normalized_df['volume_A'] = (df['volume_A']-df.mean()['volume_A'])/df.std()['volume_A']\n",
    "normalized_df['volume_B'] = (df['volume_B']-df.mean()['volume_B'])/df.std()['volume_B']\n",
    "normalized_df['volume_C'] = (df['volume_C']-df.mean()['volume_C'])/df.std()['volume_C']"
   ]
  },
  {
   "cell_type": "code",
   "execution_count": null,
   "metadata": {},
   "outputs": [],
   "source": [
    "fig,ax = plt.subplots(1,3,figsize = (16,10),sharey=False)\n",
    "\n",
    "ax[0].scatter(normalized_df['volume_A'],normalized_df['volume_B'],label=\"A vs B\")\n",
    "ax[1].scatter(normalized_df['volume_B'],normalized_df['volume_C'],label=\"B vs C\")\n",
    "ax[2].scatter(normalized_df['volume_A'],normalized_df['volume_C'],label=\"A vs C\")\n",
    "\n",
    "ax[0].plot(np.linspace(-1.5,1.5,10),\n",
    "                np.linspace(-1.5,1.5,10),\n",
    "               'k--', alpha = .6)\n",
    "ax[1].plot(np.linspace(-1.5,1.5,10),\n",
    "                np.linspace(-1.5,1.5,10),\n",
    "               'k--', alpha = .6)\n",
    "ax[2].plot(np.linspace(-1.5,1.5,10),\n",
    "                np.linspace(-1.5,1.5,10),\n",
    "               'k--', alpha = .6)\n",
    "\n",
    "# Add legends\n",
    "ax[0].legend(fontsize=14)\n",
    "ax[1].legend(fontsize=14)\n",
    "ax[2].legend(fontsize=14)\n",
    "\n",
    "plt.show()"
   ]
  },
  {
   "cell_type": "code",
   "execution_count": null,
   "metadata": {},
   "outputs": [],
   "source": [
    "fig,ax = plt.subplots(3,1,figsize = (10,16))\n",
    "\n",
    "ax[0].scatter(normalized_df['day_of_week'] ,normalized_df['volume_A'],label=\"A\",c=df['is_workday'])\n",
    "ax[1].scatter(normalized_df['day_of_week'] ,normalized_df['volume_B'],label=\"B\",c=df['is_workday'])\n",
    "ax[2].scatter(normalized_df['day_of_week'] ,normalized_df['volume_C'],label=\"C\",c=df['is_workday'])\n",
    "\n",
    "# Add legends\n",
    "ax[0].legend(fontsize=14)\n",
    "ax[1].legend(fontsize=14)\n",
    "ax[2].legend(fontsize=14)\n",
    "\n",
    "plt.show()"
   ]
  },
  {
   "cell_type": "code",
   "execution_count": null,
   "metadata": {},
   "outputs": [],
   "source": [
    "df_train = normalized_df.loc[normalized_df.calendar_year < 2019]\n",
    "df_test = normalized_df.drop(df_train.index)"
   ]
  },
  {
   "cell_type": "code",
   "execution_count": null,
   "metadata": {},
   "outputs": [],
   "source": [
    "from sklearn.linear_model import LinearRegression"
   ]
  },
  {
   "cell_type": "code",
   "execution_count": null,
   "metadata": {},
   "outputs": [],
   "source": [
    "reg = LinearRegression(copy_X = True)"
   ]
  },
  {
   "cell_type": "code",
   "execution_count": null,
   "metadata": {},
   "outputs": [],
   "source": [
    "reg.fit(df_train[['volume_B']],df_train['volume_A'])"
   ]
  },
  {
   "cell_type": "code",
   "execution_count": null,
   "metadata": {},
   "outputs": [],
   "source": [
    "pred = reg.predict(df_train[['volume_B']])"
   ]
  },
  {
   "cell_type": "code",
   "execution_count": null,
   "metadata": {},
   "outputs": [],
   "source": [
    "plt.scatter(pred,df_train['volume_A']-pred,c=df_train['is_workday'])"
   ]
  },
  {
   "cell_type": "code",
   "execution_count": null,
   "metadata": {},
   "outputs": [],
   "source": [
    "filter_data = normalized_df.drop(normalized_df[normalized_df['is_workday'] == 0 ].index)"
   ]
  },
  {
   "cell_type": "code",
   "execution_count": null,
   "metadata": {},
   "outputs": [],
   "source": [
    "filtered_train = filter_data.loc[filter_data.calendar_year < 2019]\n",
    "filtered_test = filter_data.drop(filtered_train.index)"
   ]
  },
  {
   "cell_type": "code",
   "execution_count": null,
   "metadata": {},
   "outputs": [],
   "source": [
    "reg2 = LinearRegression(copy_X = True)"
   ]
  },
  {
   "cell_type": "code",
   "execution_count": null,
   "metadata": {},
   "outputs": [],
   "source": [
    "reg2.fit(filtered_train[['volume_B']],filtered_train['volume_A'])"
   ]
  },
  {
   "cell_type": "code",
   "execution_count": null,
   "metadata": {},
   "outputs": [],
   "source": [
    "pred2 = reg2.predict(filtered_train[['volume_B']])"
   ]
  },
  {
   "cell_type": "code",
   "execution_count": null,
   "metadata": {},
   "outputs": [],
   "source": [
    "plt.scatter(pred2,filtered_train['volume_A']-pred2)"
   ]
  },
  {
   "cell_type": "code",
   "execution_count": null,
   "metadata": {},
   "outputs": [],
   "source": [
    "pred3 = reg2.predict(df_train[['volume_B']])"
   ]
  },
  {
   "cell_type": "code",
   "execution_count": null,
   "metadata": {},
   "outputs": [],
   "source": [
    "plt.scatter(pred3,df_train['volume_A']-pred3,c=df_train['is_workday'])"
   ]
  },
  {
   "cell_type": "code",
   "execution_count": null,
   "metadata": {},
   "outputs": [],
   "source": []
  }
 ],
 "metadata": {
  "kernelspec": {
   "display_name": "Python 3",
   "language": "python",
   "name": "python3"
  },
  "language_info": {
   "codemirror_mode": {
    "name": "ipython",
    "version": 3
   },
   "file_extension": ".py",
   "mimetype": "text/x-python",
   "name": "python",
   "nbconvert_exporter": "python",
   "pygments_lexer": "ipython3",
   "version": "3.7.6"
  }
 },
 "nbformat": 4,
 "nbformat_minor": 4
}
