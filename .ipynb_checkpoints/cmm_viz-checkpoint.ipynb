{
<<<<<<< Updated upstream
 "cells": [],
 "metadata": {},
=======
 "cells": [
  {
   "cell_type": "code",
   "execution_count": 1,
   "metadata": {},
   "outputs": [],
   "source": [
    "import pandas as pd\n",
    "import pyarrow\n",
    "import plotly\n",
    "import plotly.graph_objects as go"
   ]
  },
  {
   "cell_type": "code",
   "execution_count": 2,
   "metadata": {},
   "outputs": [],
   "source": [
    "cmm = pd.read_parquet('cmm_erdos_bootcamp_2020_timeseries.pq', engine='pyarrow')\n",
    "cmm.set_index('date_val', inplace=True)"
   ]
  },
  {
   "cell_type": "markdown",
   "metadata": {},
   "source": [
    "# Plotly Visualization of Time Series Data"
   ]
  },
  {
   "cell_type": "code",
   "execution_count": 13,
   "metadata": {},
   "outputs": [],
   "source": [
    "# fig = go.Figure([{\n",
    "#     'x': cmm.index,\n",
    "#     'y': cmm[col],\n",
    "#     'name': col,\n",
    "# } for col in ['volume_A', 'volume_B', 'volume_C']])\n",
    "# fig.update_layout(template='simple_white', title=\"CoverMyMeds Time Series\")\n",
    "# fig.update_xaxes(\n",
    "#     rangeslider_visible=True,\n",
    "#     rangeselector=dict(\n",
    "#         buttons=list([\n",
    "#             dict(count=1, label=\"1m\", step=\"month\", stepmode=\"backward\"),\n",
    "#             dict(count=6, label=\"6m\", step=\"month\", stepmode=\"backward\"),\n",
    "#             dict(count=1, label=\"YTD\", step=\"year\", stepmode=\"todate\"),\n",
    "#             dict(count=1, label=\"1y\", step=\"year\", stepmode=\"backward\"),\n",
    "#             dict(step=\"all\")\n",
    "#         ])\n",
    "#     )\n",
    "# )\n",
    "# fig.write_html(\"cmm_viz.html\")\n",
    "# fig.show()"
   ]
  }
 ],
 "metadata": {
  "kernelspec": {
   "display_name": "Python 3",
   "language": "python",
   "name": "python3"
  },
  "language_info": {
   "codemirror_mode": {
    "name": "ipython",
    "version": 3
   },
   "file_extension": ".py",
   "mimetype": "text/x-python",
   "name": "python",
   "nbconvert_exporter": "python",
   "pygments_lexer": "ipython3",
   "version": "3.7.6"
  }
 },
>>>>>>> Stashed changes
 "nbformat": 4,
 "nbformat_minor": 4
}
