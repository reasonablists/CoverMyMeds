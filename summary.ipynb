{
 "cells": [
  {
   "cell_type": "code",
   "execution_count": 187,
   "metadata": {},
   "outputs": [],
   "source": [
    "import ipywidgets as widgets\n",
    "from ipywidgets import HBox, VBox, Layout, Tab, Label, Checkbox, Button\n",
    "from ipywidgets import FloatSlider, IntSlider, Play, Dropdown, HTMLMath\n",
    "from IPython.display import display\n",
    "\n",
    "import matplotlib.pyplot as plt\n",
    "import seaborn as sns; sns.set_style('whitegrid')\n",
    "import numpy as np\n",
    "\n",
    "import pandas as pd\n",
    "from datetime import datetime"
   ]
  },
  {
   "cell_type": "code",
   "execution_count": 188,
   "metadata": {},
   "outputs": [],
   "source": [
    "df = pd.read_parquet(\"cmm_erdos_bootcamp_2020_timeseries.pq\", engine='pyarrow')\n",
    "df.date_val = pd.to_datetime(df.date_val)"
   ]
  },
  {
   "cell_type": "code",
   "execution_count": 189,
   "metadata": {},
   "outputs": [],
   "source": [
    "def normalized(vals):\n",
    "    return (vals - vals.mean()) / (vals.max() - vals.min())"
   ]
  },
  {
   "cell_type": "code",
   "execution_count": 190,
   "metadata": {},
   "outputs": [],
   "source": [
    "# Helper function for creating widgets. Only to make subsequent code shorter.\n",
    "\n",
    "def float_widget(value, min, max, step, description, format):\n",
    "    return FloatSlider(value=value, min=min, max=max, step=step,\n",
    "                       disabled=False,\n",
    "                       description=description, continuous_update=False,\n",
    "                       orientation='horizontal',\n",
    "                       readout=True, readout_format=format)\n",
    "\n",
    "\n",
    "def int_widget(value, min, max, step, description, format):\n",
    "    return IntSlider(value=value, min=min, max=max, step=step,\n",
    "                       disabled=False,\n",
    "                       description=description, continuous_update=False,\n",
    "                       orientation='horizontal',\n",
    "                       readout=True, readout_format=format)"
   ]
  },
  {
   "cell_type": "markdown",
   "metadata": {},
   "source": [
    "# Explore Data"
   ]
  },
  {
   "cell_type": "code",
   "execution_count": 191,
   "metadata": {},
   "outputs": [],
   "source": [
    "from statsmodels.tsa.seasonal import STL"
   ]
  },
  {
   "cell_type": "markdown",
   "metadata": {},
   "source": [
    "## Trend"
   ]
  },
  {
   "cell_type": "code",
   "execution_count": 192,
   "metadata": {},
   "outputs": [],
   "source": [
    "colors = {'Volume A': 'C1',\n",
    "          'Volume B': 'C2',\n",
    "          'Volume C': 'C3'}\n",
    "\n",
    "def plot_trends(volumes, normalize=True, reg_holidays=True, holiday_dates=True):\n",
    "    if len(volumes) == 0:\n",
    "        return\n",
    "    \n",
    "    # fetch data from dataframe\n",
    "    vol_a = df.volume_A.values.copy()\n",
    "    vol_b = df.volume_B.values.copy()\n",
    "    vol_c = df.volume_C.values.copy()\n",
    "\n",
    "    # preprocess if requested\n",
    "    if reg_holidays:\n",
    "        for i in df.index[df.is_holiday == 1]:\n",
    "            if i >= 7:\n",
    "                source_i = i - 7\n",
    "            else:\n",
    "                source_i = i + 7\n",
    "            vol_a[i] = vol_a[source_i]\n",
    "            vol_b[i] = vol_b[source_i]\n",
    "            vol_c[i] = vol_c[source_i]\n",
    "\n",
    "    # extract trends using STL\n",
    "    trend_a = STL(vol_a, 7).fit().trend\n",
    "    trend_b = STL(vol_b, 7).fit().trend\n",
    "    trend_c = STL(vol_c, 7).fit().trend\n",
    "    trends = {'Volume A': trend_a,\n",
    "              'Volume B': trend_b,\n",
    "              'Volume C': trend_c}\n",
    "    \n",
    "    \n",
    "    plt.figure(figsize=(20, 5))\n",
    "    for volume in volumes:\n",
    "        trend = trends[volume]\n",
    "        if normalize:\n",
    "            trend = normalized(trend)\n",
    "        plt.plot(df.date_val, trend, label=str(volume), c=colors[volume])\n",
    "    plt.legend()\n",
    "    \n",
    "    if holiday_dates:\n",
    "        for ind in df.date_val[df.is_holiday == 1]:\n",
    "            plt.axvline(ind, lw=1, ls='--', c='k')\n",
    "    \n",
    "    \n",
    "    #plt.xticks(rotation=90)\n",
    "    plt.tight_layout()\n",
    "    plt.show()\n",
    "\n",
    "normalize_w = widgets.Checkbox(value=True, description=\"Normalize\")\n",
    "reg_holidays_w = widgets.Checkbox(value=True, description=\"Regularize Holidays\")\n",
    "holiday_dates_w = widgets.Checkbox(value=True, description=\"Show Holiday Dates\")\n",
    "\n",
    "\n",
    "volumes_w = widgets.SelectMultiple(options=['Volume A', 'Volume B', 'Volume C'], value=['Volume A'],)\n",
    "    \n",
    "plot_trends_w = widgets.interactive_output(plot_trends, dict(normalize=normalize_w,\n",
    "                                                            volumes=volumes_w,\n",
    "                                                            reg_holidays=reg_holidays_w,\n",
    "                                                            holiday_dates=holiday_dates_w))\n",
    "\n",
    "\n",
    "explore_trends_subtab = VBox([HBox([VBox([normalize_w,\n",
    "                                          reg_holidays_w,\n",
    "                                          holiday_dates_w]), Label(value='Select Volumes: '), volumes_w]),\n",
    "                              plot_trends_w,])"
   ]
  },
  {
   "cell_type": "markdown",
   "metadata": {},
   "source": [
    "## Seasonality"
   ]
  },
  {
   "cell_type": "code",
   "execution_count": 193,
   "metadata": {},
   "outputs": [],
   "source": [
    "colors = {'Volume A': 'C1',\n",
    "          'Volume B': 'C2',\n",
    "          'Volume C': 'C3'}\n",
    "\n",
    "def plot_seasonality(volumes, normalize=True, reg_holidays=True, holiday_dates=True):\n",
    "    if len(volumes) == 0:\n",
    "        return\n",
    "    \n",
    "    # fetch data from dataframe\n",
    "    vol_a = df.volume_A.values.copy()\n",
    "    vol_b = df.volume_B.values.copy()\n",
    "    vol_c = df.volume_C.values.copy()\n",
    "\n",
    "    # preprocess if requested\n",
    "    if reg_holidays:\n",
    "        for i in df.index[df.is_holiday == 1]:\n",
    "            if i >= 7:\n",
    "                source_i = i - 7\n",
    "            else:\n",
    "                source_i = i + 7\n",
    "            vol_a[i] = vol_a[source_i]\n",
    "            vol_b[i] = vol_b[source_i]\n",
    "            vol_c[i] = vol_c[source_i]\n",
    "\n",
    "    # extract trends using STL\n",
    "    season_a = STL(vol_a, 7).fit().seasonal\n",
    "    season_b = STL(vol_b, 7).fit().seasonal\n",
    "    season_c = STL(vol_c, 7).fit().seasonal\n",
    "    seasons = {'Volume A': season_a,\n",
    "              'Volume B': season_b,\n",
    "              'Volume C': season_c}\n",
    "    \n",
    "    \n",
    "    plt.figure(figsize=(20, 5))\n",
    "    for volume in volumes:\n",
    "        season = seasons[volume]\n",
    "        if normalize:\n",
    "            season = normalized(season)\n",
    "        plt.plot(df.date_val, season, label=str(volume), c=colors[volume])\n",
    "    plt.legend()\n",
    "    \n",
    "    if holiday_dates:\n",
    "        for ind in df.date_val[df.is_holiday == 1]:\n",
    "            plt.axvline(ind, lw=1, ls='--', c='k')\n",
    "    \n",
    "    \n",
    "    #plt.xticks(rotation=90)\n",
    "    plt.tight_layout()\n",
    "    plt.show()\n",
    "\n",
    "normalize_w = widgets.Checkbox(value=True, description=\"Normalize\")\n",
    "reg_holidays_w = widgets.Checkbox(value=True, description=\"Regularize Holidays\")\n",
    "holiday_dates_w = widgets.Checkbox(value=True, description=\"Show Holiday Dates\")\n",
    "\n",
    "\n",
    "volumes_w = widgets.SelectMultiple(options=['Volume A', 'Volume B', 'Volume C'], value=['Volume A'],)\n",
    "    \n",
    "plot_seasonality_w = widgets.interactive_output(plot_seasonality, dict(normalize=normalize_w,\n",
    "                                                                  volumes=volumes_w,\n",
    "                                                                  reg_holidays=reg_holidays_w,\n",
    "                                                                  holiday_dates=holiday_dates_w))\n",
    "\n",
    "\n",
    "explore_seasonality_subtab = VBox([HBox([VBox([normalize_w,\n",
    "                                          reg_holidays_w,\n",
    "                                          holiday_dates_w]), Label(value=\"Select Volumes: \"), volumes_w]),\n",
    "                              plot_seasonality_w,])"
   ]
  },
  {
   "cell_type": "markdown",
   "metadata": {},
   "source": [
    "## Causality"
   ]
  },
  {
   "cell_type": "code",
   "execution_count": 194,
   "metadata": {},
   "outputs": [],
   "source": [
    "explore_causality_subtab = VBox([])"
   ]
  },
  {
   "cell_type": "code",
   "execution_count": 195,
   "metadata": {},
   "outputs": [],
   "source": [
    "explore_tab = Tab(children=[explore_trends_subtab, explore_seasonality_subtab, explore_causality_subtab])\n",
    "explore_tab.set_title(0, \"Trend\")\n",
    "explore_tab.set_title(1, \"Seasonality\")\n",
    "explore_tab.set_title(2, \"Causality\")"
   ]
  },
  {
   "cell_type": "markdown",
   "metadata": {},
   "source": [
    "# Summary"
   ]
  },
  {
   "cell_type": "code",
   "execution_count": 196,
   "metadata": {},
   "outputs": [
    {
     "data": {
      "application/vnd.jupyter.widget-view+json": {
       "model_id": "b3429ede8efd4472becb37658004477c",
       "version_major": 2,
       "version_minor": 0
      },
      "text/plain": [
       "Tab(children=(Tab(children=(VBox(children=(HBox(children=(VBox(children=(Checkbox(value=True, description='Nor…"
      ]
     },
     "metadata": {},
     "output_type": "display_data"
    }
   ],
   "source": [
    "tabs = Tab(children=[explore_tab])\n",
    "tabs.set_title(0, \"Explore Data\")\n",
    "tabs.set_title(1, \"Proposed Models\")\n",
    "tabs.set_title(2, \"Selected Model\")\n",
    "display(tabs)"
   ]
  }
 ],
 "metadata": {
  "kernelspec": {
   "display_name": "Python [conda env:py37] *",
   "language": "python",
   "name": "conda-env-py37-py"
  },
  "language_info": {
   "codemirror_mode": {
    "name": "ipython",
    "version": 3
   },
   "file_extension": ".py",
   "mimetype": "text/x-python",
   "name": "python",
   "nbconvert_exporter": "python",
   "pygments_lexer": "ipython3",
   "version": "3.7.6"
  }
 },
 "nbformat": 4,
 "nbformat_minor": 4
}
