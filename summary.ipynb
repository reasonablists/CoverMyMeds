{
 "cells": [
  {
   "cell_type": "code",
   "execution_count": 1,
   "metadata": {},
   "outputs": [],
   "source": [
    "import ipywidgets as widgets\n",
    "from ipywidgets import HBox, VBox, Tab, Label, Checkbox, Button\n",
    "from ipywidgets import FloatSlider, IntSlider, Dropdown, SelectMultiple\n",
    "from IPython.display import display\n",
    "\n",
    "import matplotlib.pyplot as plt\n",
    "import matplotlib; matplotlib.rcParams.update({'font.size': 14})\n",
    "import seaborn as sns; sns.set_style('whitegrid')\n",
    "import numpy as np\n",
    "\n",
    "import pandas as pd\n",
    "from datetime import datetime"
   ]
  },
  {
   "cell_type": "code",
   "execution_count": 2,
   "metadata": {},
   "outputs": [],
   "source": [
    "df = pd.read_parquet(\"cmm_erdos_bootcamp_2020_timeseries.pq\", engine='pyarrow')\n",
    "df.date_val = pd.to_datetime(df.date_val)\n",
    "\n",
    "test_start_dates = {'1 month': datetime(2019, 12, 1),\n",
    "                    '3 months': datetime(2019, 10, 1),\n",
    "                    '6 months': datetime(2019, 7, 1),\n",
    "                    '1 year': datetime(2019, 1, 1)}\n",
    "\n",
    "def get_train_test(test_start_date):\n",
    "    df_train = df.loc[df.date_val < test_start_date]\n",
    "    df_test = df.loc[df.date_val >= test_start_date]\n",
    "    \n",
    "    train_a, train_b, train_c = df_train.volume_A.values, df_train.volume_B.values, df_train.volume_C.values\n",
    "    test_a, test_b, test_c = df_test.volume_A.values, df_test.volume_B.values, df_test.volume_C.values\n",
    "\n",
    "    train_sets = {'Volume A': train_a,\n",
    "                 'Volume B': train_b,\n",
    "                 'Volume C': train_c}\n",
    "\n",
    "    test_sets = {'Volume A': test_a,\n",
    "                'Volume B': test_b,\n",
    "                'Volume C': test_c}\n",
    "    \n",
    "    return train_sets, test_sets, df_test.date_val"
   ]
  },
  {
   "cell_type": "code",
   "execution_count": 3,
   "metadata": {},
   "outputs": [],
   "source": [
    "def mape(actual, prediction):\n",
    "    return np.mean(np.abs((actual - prediction) / actual))\n",
    "\n",
    "def normalized(vals):\n",
    "    return (vals - vals.mean()) / (vals.max() - vals.min())"
   ]
  },
  {
   "cell_type": "markdown",
   "metadata": {},
   "source": [
    "# Explore Data"
   ]
  },
  {
   "cell_type": "code",
   "execution_count": 4,
   "metadata": {},
   "outputs": [],
   "source": [
    "from statsmodels.tsa.seasonal import STL"
   ]
  },
  {
   "cell_type": "markdown",
   "metadata": {},
   "source": [
    "## Trend"
   ]
  },
  {
   "cell_type": "code",
   "execution_count": 5,
   "metadata": {},
   "outputs": [],
   "source": [
    "colors = {'Volume A': 'C1',\n",
    "          'Volume B': 'C2',\n",
    "          'Volume C': 'C3'}\n",
    "\n",
    "def plot_trends(volumes, normalize=True, reg_holidays=True, holiday_dates=True):\n",
    "    if len(volumes) == 0:\n",
    "        return\n",
    "    \n",
    "    # fetch data from dataframe\n",
    "    vol_a = df.volume_A.values.copy()\n",
    "    vol_b = df.volume_B.values.copy()\n",
    "    vol_c = df.volume_C.values.copy()\n",
    "\n",
    "    # preprocess if requested\n",
    "    if reg_holidays:\n",
    "        for i in df.index[df.is_holiday == 1]:\n",
    "            if i >= 7:\n",
    "                source_i = i - 7\n",
    "            else:\n",
    "                source_i = i + 7\n",
    "            vol_a[i] = vol_a[source_i]\n",
    "            vol_b[i] = vol_b[source_i]\n",
    "            vol_c[i] = vol_c[source_i]\n",
    "\n",
    "    # extract trends using STL\n",
    "    trend_a = STL(vol_a, 7).fit().trend\n",
    "    trend_b = STL(vol_b, 7).fit().trend\n",
    "    trend_c = STL(vol_c, 7).fit().trend\n",
    "    trends = {'Volume A': trend_a,\n",
    "              'Volume B': trend_b,\n",
    "              'Volume C': trend_c}\n",
    "    \n",
    "    \n",
    "    plt.figure(figsize=(20, 5))\n",
    "    for volume in volumes:\n",
    "        trend = trends[volume]\n",
    "        if normalize:\n",
    "            trend = normalized(trend)\n",
    "        plt.plot(df.date_val, trend, label=str(volume), c=colors[volume])\n",
    "    plt.legend()\n",
    "    \n",
    "    if holiday_dates:\n",
    "        for ind in df.date_val[df.is_holiday == 1]:\n",
    "            plt.axvline(ind, lw=1, ls='--', c='k')\n",
    "    \n",
    "    \n",
    "    #plt.xticks(rotation=90)\n",
    "    plt.tight_layout()\n",
    "    plt.show()\n",
    "\n",
    "normalize_w = widgets.Checkbox(value=True, description=\"Normalize\")\n",
    "reg_holidays_w = widgets.Checkbox(value=True, description=\"Regularize Holidays\")\n",
    "holiday_dates_w = widgets.Checkbox(value=True, description=\"Show Holidays\")\n",
    "\n",
    "\n",
    "volumes_w = widgets.SelectMultiple(options=['Volume A', 'Volume B', 'Volume C'], value=['Volume A'],)\n",
    "    \n",
    "plot_trends_w = widgets.interactive_output(plot_trends, dict(normalize=normalize_w,\n",
    "                                                            volumes=volumes_w,\n",
    "                                                            reg_holidays=reg_holidays_w,\n",
    "                                                            holiday_dates=holiday_dates_w))\n",
    "\n",
    "\n",
    "explore_trends_subtab = VBox([HBox([VBox([normalize_w,\n",
    "                                          reg_holidays_w,\n",
    "                                          holiday_dates_w]), Label(value='Select Volumes: '), volumes_w]),\n",
    "                              plot_trends_w,])"
   ]
  },
  {
   "cell_type": "markdown",
   "metadata": {},
   "source": [
    "## Seasonality"
   ]
  },
  {
   "cell_type": "code",
   "execution_count": 6,
   "metadata": {},
   "outputs": [],
   "source": [
    "colors = {'Volume A': 'C1',\n",
    "          'Volume B': 'C2',\n",
    "          'Volume C': 'C3'}\n",
    "\n",
    "def plot_seasonality(volumes, normalize=True, reg_holidays=True, holiday_dates=True):\n",
    "    if len(volumes) == 0:\n",
    "        return\n",
    "    \n",
    "    # fetch data from dataframe\n",
    "    vol_a = df.volume_A.values.copy()\n",
    "    vol_b = df.volume_B.values.copy()\n",
    "    vol_c = df.volume_C.values.copy()\n",
    "\n",
    "    # preprocess if requested\n",
    "    if reg_holidays:\n",
    "        for i in df.index[df.is_holiday == 1]:\n",
    "            if i >= 7:\n",
    "                source_i = i - 7\n",
    "            else:\n",
    "                source_i = i + 7\n",
    "            vol_a[i] = vol_a[source_i]\n",
    "            vol_b[i] = vol_b[source_i]\n",
    "            vol_c[i] = vol_c[source_i]\n",
    "\n",
    "    # extract trends using STL\n",
    "    season_a = STL(vol_a, 7).fit().seasonal\n",
    "    season_b = STL(vol_b, 7).fit().seasonal\n",
    "    season_c = STL(vol_c, 7).fit().seasonal\n",
    "    seasons = {'Volume A': season_a,\n",
    "               'Volume B': season_b,\n",
    "               'Volume C': season_c}\n",
    "    \n",
    "    \n",
    "    plt.figure(figsize=(20, 5))\n",
    "    for volume in volumes:\n",
    "        season = seasons[volume]\n",
    "        if normalize:\n",
    "            season = normalized(season)\n",
    "        plt.plot(df.date_val, season, label=str(volume), c=colors[volume])\n",
    "    plt.legend()\n",
    "    \n",
    "    if holiday_dates:\n",
    "        for ind in df.date_val[df.is_holiday == 1]:\n",
    "            plt.axvline(ind, lw=1, ls='--', c='k')\n",
    "    \n",
    "    \n",
    "    #plt.xticks(rotation=90)\n",
    "    plt.tight_layout()\n",
    "    plt.show()\n",
    "\n",
    "normalize_w = Checkbox(value=True, description=\"Normalize\")\n",
    "reg_holidays_w = Checkbox(value=True, description=\"Regularize Holidays\")\n",
    "holiday_dates_w = Checkbox(value=True, description=\"Show Holidays\")\n",
    "\n",
    "\n",
    "volumes_w = SelectMultiple(options=['Volume A', 'Volume B', 'Volume C'], value=['Volume A'],)\n",
    "    \n",
    "plot_seasonality_w = widgets.interactive_output(plot_seasonality, dict(normalize=normalize_w,\n",
    "                                                                  volumes=volumes_w,\n",
    "                                                                  reg_holidays=reg_holidays_w,\n",
    "                                                                  holiday_dates=holiday_dates_w))\n",
    "\n",
    "\n",
    "explore_seasonality_subtab = VBox([HBox([VBox([normalize_w,\n",
    "                                          reg_holidays_w,\n",
    "                                          holiday_dates_w]), Label(value=\"Select Volumes: \"), volumes_w]),\n",
    "                              plot_seasonality_w,])"
   ]
  },
  {
   "cell_type": "markdown",
   "metadata": {},
   "source": [
    "## Causality"
   ]
  },
  {
   "cell_type": "code",
   "execution_count": 7,
   "metadata": {},
   "outputs": [],
   "source": [
    "explore_causality_subtab = VBox([])"
   ]
  },
  {
   "cell_type": "markdown",
   "metadata": {},
   "source": [
    "## Daily Trends"
   ]
  },
  {
   "cell_type": "code",
   "execution_count": 8,
   "metadata": {},
   "outputs": [],
   "source": [
    "explore_daily_subtab = VBox([])"
   ]
  },
  {
   "cell_type": "markdown",
   "metadata": {},
   "source": [
    "## Monthly Trends"
   ]
  },
  {
   "cell_type": "code",
   "execution_count": 9,
   "metadata": {},
   "outputs": [],
   "source": [
    "explore_monthly_subtab = VBox([])"
   ]
  },
  {
   "cell_type": "markdown",
   "metadata": {},
   "source": [
    "## Yearly Trends"
   ]
  },
  {
   "cell_type": "code",
   "execution_count": 10,
   "metadata": {},
   "outputs": [],
   "source": [
    "explore_yearly_subtab = VBox([])"
   ]
  },
  {
   "cell_type": "code",
   "execution_count": 11,
   "metadata": {},
   "outputs": [],
   "source": [
    "explore_tab = Tab(children=[explore_trends_subtab, explore_seasonality_subtab,\n",
    "                            explore_causality_subtab, explore_daily_subtab,\n",
    "                           explore_monthly_subtab, explore_yearly_subtab])\n",
    "explore_tab.set_title(0, \"Trend\")\n",
    "explore_tab.set_title(1, \"Seasonal \")\n",
    "explore_tab.set_title(2, \"Causality\")\n",
    "explore_tab.set_title(3, \"Daily Trend\")\n",
    "explore_tab.set_title(4, \"Monthly Trend\")\n",
    "explore_tab.set_title(5, \"Yearly Trend\")"
   ]
  },
  {
   "cell_type": "markdown",
   "metadata": {},
   "source": [
    "# Models and Forecasting"
   ]
  },
  {
   "cell_type": "markdown",
   "metadata": {},
   "source": [
    "## Seasonal Naive Method"
   ]
  },
  {
   "cell_type": "code",
   "execution_count": 12,
   "metadata": {},
   "outputs": [],
   "source": [
    "# naive sesonal method for benchmarking\n",
    "def naive_forecast(volume, horizon='1 year'):\n",
    "    period = 7\n",
    "    season_to_repeat = 3\n",
    "    \n",
    "    train_sets_, test_sets_, _ = get_train_test(test_start_dates[horizon])\n",
    "    \n",
    "    steps = len(test_sets_[volume])\n",
    "    train = train_sets_[volume]\n",
    "    \n",
    "    index_base = len(train) - season_to_repeat*period\n",
    "    indices = index_base + np.arange(0, steps, dtype=int)%period\n",
    "    return train[indices]"
   ]
  },
  {
   "cell_type": "code",
   "execution_count": 13,
   "metadata": {},
   "outputs": [],
   "source": [
    "horizon_shorter_name = {'1 month': '1m',\n",
    "                        '3 months': '3m',\n",
    "                        '6 months': '6m',\n",
    "                        '1 year': '12m'}\n",
    "\n",
    "def get_sarimax_filename(volume, horizon):\n",
    "    return \"vasudha/\" + volume[-1] + \"_\" + horizon_shorter_name[horizon] + \"_sarimax.csv\"\n",
    "\n",
    "volumes = ['Volume A', 'Volume B', 'Volume C']\n",
    "horizons = ['1 month', '3 months', '6 months', '1 year']\n",
    "\n",
    "sarimax_forecasts = {}\n",
    "\n",
    "# confidence intervals\n",
    "sarimax_lower = {}\n",
    "sarimax_upper = {}\n",
    "\n",
    "for volume in volumes:\n",
    "    sarimax_forecasts[volume] = {}\n",
    "    sarimax_upper[volume] = {}\n",
    "    sarimax_lower[volume] = {}\n",
    "\n",
    "    for horizon in horizons:\n",
    "        csv_df = pd.read_csv(get_sarimax_filename(volume, horizon),\n",
    "                             header=None, names=[\"forecast\", \"upper\", \"lower\"])\n",
    "\n",
    "    sarimax_forecasts[volume][horizon] = csv_df.forecast"
   ]
  },
  {
   "cell_type": "code",
   "execution_count": 14,
   "metadata": {},
   "outputs": [],
   "source": [
    "colors = {'Volume A': 'C1',\n",
    "          'Volume B': 'C2',\n",
    "          'Volume C': 'C3'}\n",
    "\n",
    "models_dic = {'Seasonal Naive Method': 'snm',\n",
    "              'SARIMAX': 'sarimax',\n",
    "              'sVARMAX': 'svarmax',\n",
    "              'ARIMA': 'arima'}\n",
    "\n",
    "\n",
    "\n",
    "\n",
    "def get_forecast(volume, horizon, model):\n",
    "    model_codename = models_dic[model]\n",
    "    \n",
    "    if model_codename is \"snm\":\n",
    "        return naive_forecast(volume, horizon)\n",
    "    elif model_codename is \"sarimax\":\n",
    "        return sarimax_forecasts[volume][horizon]\n",
    "    else:\n",
    "        return np.zeros_like(naive_forecast(volume, horizon))\n",
    "\n",
    "\n",
    "def plot_forecast(volumes, horizon, models, merge=False):\n",
    "    if len(volumes) == 0:\n",
    "        return\n",
    "    \n",
    "    train_sets, test_sets, test_date_vals = get_train_test(test_start_dates[horizon])\n",
    "    ax_height = 3\n",
    "    if merge:\n",
    "        num_rows = 2\n",
    "        fig, axs = plt.subplots(num_rows, 1, figsize=(15, num_rows * ax_height), sharex=True)\n",
    "        forecast_ax = axs[0]\n",
    "        data_ax = axs[0]\n",
    "        err_ax = axs[1]\n",
    "    else:\n",
    "        num_rows = 3\n",
    "        fig, axs = plt.subplots(num_rows, 1, figsize=(15, num_rows * ax_height), sharex=True)\n",
    "        forecast_ax = axs[0]\n",
    "        data_ax = axs[1]\n",
    "        err_ax = axs[2]\n",
    "\n",
    "    \n",
    "    for volume in volumes:\n",
    "        train = train_sets[volume]\n",
    "        test = test_sets[volume]\n",
    "        \n",
    "        forecasts = np.array([get_forecast(volume, horizon, model) for model in models])\n",
    "        forecast = np.mean(forecasts, axis=0)\n",
    "        ape = 100.0 * np.abs(forecast - test) / test\n",
    "\n",
    "        forecast_ax.plot(test_date_vals, forecast, color=colors[volume], ls='--', lw=2, label=volume)\n",
    "        data_ax.plot(test_date_vals, test, color=colors[volume], lw=1, label=volume)\n",
    "        \n",
    "        err_ax.plot(test_date_vals, ape, color=colors[volume], label=volume)\n",
    "        err_ax.set_ylabel(\"Absolute Percent Error\")\n",
    "        \n",
    "    plt.legend()\n",
    "    plt.xticks(rotation=20)\n",
    "    plt.tight_layout()\n",
    "    plt.show()\n",
    "    \n",
    "    print(fr\"Mean absolute percent error: {np.mean(ape):.2f}\")\n",
    "\n",
    "    \n",
    " \n",
    "horizon_label_w = Label(value=\"Forecast horizon: \")\n",
    "horizon_w = Dropdown(options=['1 month', '3 months', '6 months', '1 year'], value='1 year',)\n",
    "\n",
    "volumes_label_w = Label(value=\"Volumes: \")\n",
    "volumes_w = SelectMultiple(options=['Volume A', 'Volume B', 'Volume C'], value=['Volume A'],)\n",
    "\n",
    "models_label_w = Label(value=\"Model(s): \")\n",
    "models_w = SelectMultiple(options=models_dic.keys(),\n",
    "                                 value=['Seasonal Naive Method'],)\n",
    "\n",
    "merge_plots_w = Checkbox(value=False, description=\"Merge forecast and test plots\")\n",
    "\n",
    "\n",
    "plot_forecast_w = widgets.interactive_output(plot_forecast, dict(volumes=volumes_w,\n",
    "                                                                 horizon=horizon_w,\n",
    "                                                                 models=models_w,\n",
    "                                                                 merge=merge_plots_w))\n",
    "\n",
    "forecast_subtab = VBox([HBox([volumes_label_w, volumes_w,\n",
    "                              VBox([HBox([horizon_label_w, horizon_w]), merge_plots_w]),\n",
    "                                    models_label_w, models_w]),\n",
    "                              plot_forecast_w,])"
   ]
  },
  {
   "cell_type": "markdown",
   "metadata": {},
   "source": [
    "# SARIMA"
   ]
  },
  {
   "cell_type": "code",
   "execution_count": 15,
   "metadata": {},
   "outputs": [],
   "source": [
    "models_tab = Tab(children=[forecast_subtab])\n",
    "models_tab.set_title(0, \"Forecast and Error\")"
   ]
  },
  {
   "cell_type": "markdown",
   "metadata": {},
   "source": [
    "# Summary"
   ]
  },
  {
   "cell_type": "code",
   "execution_count": 16,
   "metadata": {},
   "outputs": [
    {
     "data": {
      "application/vnd.jupyter.widget-view+json": {
       "model_id": "6867cf05379342c9ac929b13cd56396e",
       "version_major": 2,
       "version_minor": 0
      },
      "text/plain": [
       "Tab(children=(Tab(children=(VBox(children=(HBox(children=(VBox(children=(Checkbox(value=True, description='Nor…"
      ]
     },
     "metadata": {},
     "output_type": "display_data"
    }
   ],
   "source": [
    "tabs = Tab(children=[explore_tab, models_tab])\n",
    "tabs.set_title(0, \"Explore Data\")\n",
    "tabs.set_title(1, \"Models & Forecasts\")\n",
    "display(tabs)"
   ]
  },
  {
   "cell_type": "code",
   "execution_count": null,
   "metadata": {},
   "outputs": [],
   "source": []
  },
  {
   "cell_type": "code",
   "execution_count": null,
   "metadata": {},
   "outputs": [],
   "source": []
  },
  {
   "cell_type": "code",
   "execution_count": null,
   "metadata": {},
   "outputs": [],
   "source": []
  },
  {
   "cell_type": "code",
   "execution_count": null,
   "metadata": {},
   "outputs": [],
   "source": []
  },
  {
   "cell_type": "code",
   "execution_count": null,
   "metadata": {},
   "outputs": [],
   "source": []
  }
 ],
 "metadata": {
  "kernelspec": {
   "display_name": "Python [conda env:py37] *",
   "language": "python",
   "name": "conda-env-py37-py"
  },
  "language_info": {
   "codemirror_mode": {
    "name": "ipython",
    "version": 3
   },
   "file_extension": ".py",
   "mimetype": "text/x-python",
   "name": "python",
   "nbconvert_exporter": "python",
   "pygments_lexer": "ipython3",
   "version": "3.7.6"
  }
 },
 "nbformat": 4,
 "nbformat_minor": 4
}
