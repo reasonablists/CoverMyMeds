{
 "cells": [
  {
   "cell_type": "code",
   "execution_count": 14,
   "metadata": {},
   "outputs": [
    {
     "name": "stdout",
     "output_type": "stream",
     "text": [
      "0.16386263403291743\n"
     ]
    }
   ],
   "source": [
    "import pandas as pd\n",
    "import numpy as np\n",
    "from datetime import datetime\n",
    "from statsmodels.tsa.statespace.sarimax import SARIMAX\n",
    "\n",
    "import sys\n",
    "\n",
    "if not sys.warnoptions:\n",
    "    import warnings\n",
    "    warnings.simplefilter(\"ignore\")\n",
    "\n",
    "df = pd.read_parquet(\"cmm_erdos_bootcamp_2020_timeseries.pq\", engine='pyarrow')\n",
    "df.date_val = pd.to_datetime(df.date_val)\n",
    "\n",
    "df['series'] = df['volume_C']\n",
    "order=(0,1,1)\n",
    "seasonal_order=(0,1,1,7)\n",
    "exog_feat = ['is_holiday']\n",
    "\n",
    "#print(order, seasonal_order, exog_feat)\n",
    "\n",
    "train_test_sep = datetime(2019, 1, 1)\n",
    "df_train = df.loc[df.date_val < train_test_sep]\n",
    "df_test = df.loc[df.date_val >= train_test_sep]\n",
    "\n",
    "train_ = df_train.series.values\n",
    "test_ = df_test.series.values\n",
    "#np.disp(len(test_))\n",
    "\n",
    "exog_train = df_train[exog_feat]\n",
    "exog_test = df_test[exog_feat]\n",
    "\n",
    "model = SARIMAX(train_, order=order, seasonal_order=seasonal_order, exog=exog_train)\n",
    "fit_ = model.fit(disp=False, method='powell')\n",
    "\n",
    "forecast_ = fit_.get_forecast(len(test_), exog=exog_test)\n",
    "\n",
    "np.disp(np.abs((test_ - forecast_.predicted_mean) / test_).mean())\n",
    "\n",
    "data = pd.DataFrame(forecast_.conf_int())\n",
    "data['mean'] = forecast_.predicted_mean\n",
    "data = data[[\"mean\",\"lower y\",\"upper y\"]]\n",
    "data.to_csv('C_12m_sarimax_0110117_is_holiday.csv',index=False,header=False)"
   ]
  },
  {
   "cell_type": "code",
   "execution_count": null,
   "metadata": {},
   "outputs": [],
   "source": []
  }
 ],
 "metadata": {
  "kernelspec": {
   "display_name": "Python 3",
   "language": "python",
   "name": "python3"
  },
  "language_info": {
   "codemirror_mode": {
    "name": "ipython",
    "version": 3
   },
   "file_extension": ".py",
   "mimetype": "text/x-python",
   "name": "python",
   "nbconvert_exporter": "python",
   "pygments_lexer": "ipython3",
   "version": "3.7.6"
  }
 },
 "nbformat": 4,
 "nbformat_minor": 4
}
